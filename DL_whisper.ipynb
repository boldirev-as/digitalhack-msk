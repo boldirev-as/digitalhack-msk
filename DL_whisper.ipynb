{
 "cells": [
  {
   "cell_type": "code",
   "execution_count": 1,
   "id": "initial_id",
   "metadata": {
    "ExecuteTime": {
     "end_time": "2023-11-23T15:26:38.849723800Z",
     "start_time": "2023-11-23T15:24:38.601388Z"
    },
    "collapsed": false,
    "execution": {
     "iopub.execute_input": "2023-11-25T06:11:35.633134Z",
     "iopub.status.busy": "2023-11-25T06:11:35.632264Z",
     "iopub.status.idle": "2023-11-25T06:11:46.850859Z",
     "shell.execute_reply": "2023-11-25T06:11:46.849773Z",
     "shell.execute_reply.started": "2023-11-25T06:11:35.633081Z"
    },
    "jupyter": {
     "outputs_hidden": false
    }
   },
   "outputs": [
    {
     "name": "stdout",
     "output_type": "stream",
     "text": [
      "Defaulting to user installation because normal site-packages is not writeable\n",
      "Collecting git+https://github.com/openai/whisper.git\n",
      "  Cloning https://github.com/openai/whisper.git to /tmp/pip-req-build-_falia1_\n",
      "  Running command git clone --filter=blob:none --quiet https://github.com/openai/whisper.git /tmp/pip-req-build-_falia1_\n",
      "  Resolved https://github.com/openai/whisper.git to commit e58f28804528831904c3b6f2c0e473f346223433\n",
      "  Preparing metadata (pyproject.toml) ... \u001b[?25ldone\n",
      "\u001b[?25hRequirement already satisfied: triton<3,>=2.0.0 in /usr/local/lib/python3.10/dist-packages (from openai-whisper==20231117) (2.0.0)\n",
      "Requirement already satisfied: numba in /usr/local/lib/python3.10/dist-packages (from openai-whisper==20231117) (0.56.4)\n",
      "Requirement already satisfied: numpy in /usr/local/lib/python3.10/dist-packages (from openai-whisper==20231117) (1.22.4)\n",
      "Requirement already satisfied: torch in /usr/local/lib/python3.10/dist-packages (from openai-whisper==20231117) (2.0.1+cu118)\n",
      "Requirement already satisfied: tqdm in /usr/local/lib/python3.10/dist-packages (from openai-whisper==20231117) (4.65.0)\n",
      "Requirement already satisfied: more-itertools in /usr/local/lib/python3.10/dist-packages (from openai-whisper==20231117) (9.1.0)\n",
      "Requirement already satisfied: tiktoken in /home/jupyter/.local/lib/python3.10/site-packages (from openai-whisper==20231117) (0.5.1)\n",
      "Requirement already satisfied: cmake in /usr/local/lib/python3.10/dist-packages (from triton<3,>=2.0.0->openai-whisper==20231117) (3.25.2)\n",
      "Requirement already satisfied: filelock in /usr/local/lib/python3.10/dist-packages (from triton<3,>=2.0.0->openai-whisper==20231117) (3.12.2)\n",
      "Requirement already satisfied: lit in /usr/local/lib/python3.10/dist-packages (from triton<3,>=2.0.0->openai-whisper==20231117) (16.0.6)\n",
      "Requirement already satisfied: llvmlite<0.40,>=0.39.0dev0 in /usr/local/lib/python3.10/dist-packages (from numba->openai-whisper==20231117) (0.39.1)\n",
      "Requirement already satisfied: setuptools in /kernel/lib/python3.10/site-packages (from numba->openai-whisper==20231117) (51.0.0)\n",
      "Requirement already satisfied: regex>=2022.1.18 in /usr/local/lib/python3.10/dist-packages (from tiktoken->openai-whisper==20231117) (2022.10.31)\n",
      "Requirement already satisfied: requests>=2.26.0 in /home/jupyter/.local/lib/python3.10/site-packages (from tiktoken->openai-whisper==20231117) (2.31.0)\n",
      "Requirement already satisfied: typing-extensions in /kernel/lib/python3.10/site-packages (from torch->openai-whisper==20231117) (4.8.0)\n",
      "Requirement already satisfied: sympy in /usr/local/lib/python3.10/dist-packages (from torch->openai-whisper==20231117) (1.11.1)\n",
      "Requirement already satisfied: networkx in /usr/local/lib/python3.10/dist-packages (from torch->openai-whisper==20231117) (3.1)\n",
      "Requirement already satisfied: jinja2 in /kernel/lib/python3.10/site-packages (from torch->openai-whisper==20231117) (3.1.2)\n",
      "Requirement already satisfied: charset-normalizer<4,>=2 in /kernel/lib/python3.10/site-packages (from requests>=2.26.0->tiktoken->openai-whisper==20231117) (3.3.2)\n",
      "Requirement already satisfied: idna<4,>=2.5 in /kernel/lib/python3.10/site-packages (from requests>=2.26.0->tiktoken->openai-whisper==20231117) (3.4)\n",
      "Requirement already satisfied: urllib3<3,>=1.21.1 in /kernel/lib/python3.10/site-packages (from requests>=2.26.0->tiktoken->openai-whisper==20231117) (2.0.7)\n",
      "Requirement already satisfied: certifi>=2017.4.17 in /kernel/lib/python3.10/site-packages (from requests>=2.26.0->tiktoken->openai-whisper==20231117) (2023.7.22)\n",
      "Requirement already satisfied: MarkupSafe>=2.0 in /kernel/lib/python3.10/site-packages (from jinja2->torch->openai-whisper==20231117) (2.1.3)\n",
      "Requirement already satisfied: mpmath>=0.19 in /usr/local/lib/python3.10/dist-packages (from sympy->torch->openai-whisper==20231117) (1.3.0)\n",
      "\n",
      "\u001b[1m[\u001b[0m\u001b[34;49mnotice\u001b[0m\u001b[1;39;49m]\u001b[0m\u001b[39;49m A new release of pip is available: \u001b[0m\u001b[31;49m23.2.1\u001b[0m\u001b[39;49m -> \u001b[0m\u001b[32;49m23.3.1\u001b[0m\n",
      "\u001b[1m[\u001b[0m\u001b[34;49mnotice\u001b[0m\u001b[1;39;49m]\u001b[0m\u001b[39;49m To update, run: \u001b[0m\u001b[32;49mpython3 -m pip install --upgrade pip\u001b[0m\n"
     ]
    }
   ],
   "source": [
    "%pip install git+https://github.com/openai/whisper.git"
   ]
  },
  {
   "cell_type": "code",
   "execution_count": 2,
   "id": "1ba85b47-eb24-4e7e-997c-e6e7108c3017",
   "metadata": {
    "execution": {
     "iopub.execute_input": "2023-11-25T06:12:43.379190Z",
     "iopub.status.busy": "2023-11-25T06:12:43.378194Z",
     "iopub.status.idle": "2023-11-25T06:12:46.328669Z",
     "shell.execute_reply": "2023-11-25T06:12:46.327819Z",
     "shell.execute_reply.started": "2023-11-25T06:12:43.379134Z"
    }
   },
   "outputs": [
    {
     "name": "stdout",
     "output_type": "stream",
     "text": [
      "Archive:  test_dataset_new_test_data.zip\n",
      "   creating: test_dataset_new_test_data/new_test/\n",
      "  inflating: test_dataset_new_test_data/new_test/.DS_Store  \n",
      "  inflating: test_dataset_new_test_data/__MACOSX/new_test/._.DS_Store  \n",
      "   creating: test_dataset_new_test_data/new_test/audiofiles/\n",
      "  inflating: test_dataset_new_test_data/new_test/audiofiles/audio3.mp3  \n",
      "  inflating: test_dataset_new_test_data/__MACOSX/new_test/audiofiles/._audio3.mp3  \n",
      "  inflating: test_dataset_new_test_data/new_test/audiofiles/audio2.mp3  \n",
      "  inflating: test_dataset_new_test_data/__MACOSX/new_test/audiofiles/._audio2.mp3  \n",
      "  inflating: test_dataset_new_test_data/new_test/audiofiles/audio1.mp3  \n",
      "  inflating: test_dataset_new_test_data/__MACOSX/new_test/audiofiles/._audio1.mp3  \n",
      "  inflating: test_dataset_new_test_data/new_test/audiofiles/audio5.mp3  \n",
      "  inflating: test_dataset_new_test_data/__MACOSX/new_test/audiofiles/._audio5.mp3  \n",
      "  inflating: test_dataset_new_test_data/new_test/audiofiles/audio4.mp3  \n",
      "  inflating: test_dataset_new_test_data/__MACOSX/new_test/audiofiles/._audio4.mp3  \n"
     ]
    }
   ],
   "source": [
    "!unzip 'test_dataset_new_test_data.zip' -d 'test_dataset_new_test_data'"
   ]
  },
  {
   "cell_type": "code",
   "execution_count": 3,
   "id": "5ac70438",
   "metadata": {
    "execution": {
     "iopub.execute_input": "2023-11-25T06:13:13.246382Z",
     "iopub.status.busy": "2023-11-25T06:13:13.245559Z",
     "iopub.status.idle": "2023-11-25T06:13:21.762956Z",
     "shell.execute_reply": "2023-11-25T06:13:21.762144Z",
     "shell.execute_reply.started": "2023-11-25T06:13:13.246337Z"
    }
   },
   "outputs": [],
   "source": [
    "import whisper"
   ]
  },
  {
   "cell_type": "code",
   "execution_count": 4,
   "id": "5a81552dbf574203",
   "metadata": {
    "ExecuteTime": {
     "end_time": "2023-11-23T15:26:42.806722300Z",
     "start_time": "2023-11-23T15:26:38.854720600Z"
    },
    "collapsed": false,
    "execution": {
     "iopub.execute_input": "2023-11-25T06:14:39.764618Z",
     "iopub.status.busy": "2023-11-25T06:14:39.763516Z",
     "iopub.status.idle": "2023-11-25T06:15:30.161701Z",
     "shell.execute_reply": "2023-11-25T06:15:30.160649Z",
     "shell.execute_reply.started": "2023-11-25T06:14:39.764576Z"
    },
    "jupyter": {
     "outputs_hidden": false
    }
   },
   "outputs": [
    {
     "name": "stderr",
     "output_type": "stream",
     "text": [
      "100%|█████████████████████████████████████| 1.42G/1.42G [00:26<00:00, 57.7MiB/s]\n"
     ]
    }
   ],
   "source": [
    "sr_model = whisper.load_model(\"medium\")\n",
    "\n",
    "def get_text(filepath):\n",
    "  result = sr_model.transcribe(filepath, language=\"ru\", prompt=\"The sentence may be cut off, do not make up words to fill in the rest of the sentence.\")\n",
    "\n",
    "  return result"
   ]
  },
  {
   "cell_type": "code",
   "execution_count": 5,
   "id": "8c15bf40-8ee7-4189-845e-4163545d8cfd",
   "metadata": {
    "execution": {
     "iopub.execute_input": "2023-11-25T06:15:30.164399Z",
     "iopub.status.busy": "2023-11-25T06:15:30.163425Z",
     "iopub.status.idle": "2023-11-25T06:15:30.183643Z",
     "shell.execute_reply": "2023-11-25T06:15:30.182822Z",
     "shell.execute_reply.started": "2023-11-25T06:15:30.164339Z"
    }
   },
   "outputs": [],
   "source": [
    "from tqdm.notebook import tqdm"
   ]
  },
  {
   "cell_type": "code",
   "execution_count": 6,
   "id": "79bc663cf8145172",
   "metadata": {
    "collapsed": false,
    "execution": {
     "iopub.execute_input": "2023-11-25T06:15:40.585262Z",
     "iopub.status.busy": "2023-11-25T06:15:40.584316Z",
     "iopub.status.idle": "2023-11-25T06:15:40.607104Z",
     "shell.execute_reply": "2023-11-25T06:15:40.606295Z",
     "shell.execute_reply.started": "2023-11-25T06:15:40.585215Z"
    },
    "jupyter": {
     "outputs_hidden": false
    }
   },
   "outputs": [],
   "source": [
    "def format_seconds(seconds_count):\n",
    "  return f\"{int(seconds_count // 3600)}:{int(seconds_count / 60 % 60 // 1)}:{seconds_count % 60}\".replace(\".\", \",\")\n",
    "\n",
    "\n",
    "def save_srt_file(result, filename):\n",
    "  segments = result[\"segments\"]\n",
    "  data = []\n",
    "  for segment in segments:\n",
    "    data.append(f\"{segment['id']}\\n{format_seconds(segment['start'])} --> {format_seconds(segment['end'])}\\n{segment['text']}\")\n",
    "  \n",
    "  with open(f\"{filename}.srt\", mode=\"w\") as f:\n",
    "    f.write(\"\\n\\n\".join(data).replace(\"С вами был Игорь Негода.\", \"\"))"
   ]
  },
  {
   "cell_type": "code",
   "execution_count": 7,
   "id": "91859566",
   "metadata": {
    "execution": {
     "iopub.execute_input": "2023-11-25T06:15:42.839486Z",
     "iopub.status.busy": "2023-11-25T06:15:42.838548Z",
     "iopub.status.idle": "2023-11-25T06:15:42.854882Z",
     "shell.execute_reply": "2023-11-25T06:15:42.853987Z",
     "shell.execute_reply.started": "2023-11-25T06:15:42.839434Z"
    }
   },
   "outputs": [],
   "source": [
    "def save_txt_file(result, filename):\n",
    "  with open(f\"{filename}.txt\", mode=\"w\") as f:\n",
    "    f.write(result[\"text\"].replace(\"С вами был Игорь Негода.\", \"\"))"
   ]
  },
  {
   "cell_type": "code",
   "execution_count": null,
   "id": "4fa49c8b",
   "metadata": {
    "execution": {
     "iopub.execute_input": "2023-11-25T06:16:53.800087Z",
     "iopub.status.busy": "2023-11-25T06:16:53.799229Z"
    }
   },
   "outputs": [
    {
     "data": {
      "application/vnd.jupyter.widget-view+json": {
       "model_id": "ad5189a0c07f4a7f893f7f037140c770",
       "version_major": 2,
       "version_minor": 0
      },
      "text/plain": [
       "  0%|          | 0/3 [00:00<?, ?it/s]"
      ]
     },
     "metadata": {},
     "output_type": "display_data"
    }
   ],
   "source": [
    "for i in tqdm([1, 2, 5]):\n",
    "  result = get_text(f\"new_test_data/new_test/audiofiles/audio{i}.mp3\")\n",
    "  save_txt_file(result, f\"new_test_results/new_test_text_{i}\")\n",
    "  save_srt_file(result, f\"new_test_results/new_test_text_{i}\")"
   ]
  },
  {
   "cell_type": "code",
   "execution_count": null,
   "id": "2fa17031-efb2-478e-a276-72af06b07c42",
   "metadata": {},
   "outputs": [],
   "source": []
  }
 ],
 "metadata": {
  "kernelspec": {
   "display_name": "DataSphere Kernel",
   "language": "python",
   "name": "python3"
  },
  "language_info": {
   "codemirror_mode": {
    "name": "ipython",
    "version": 3
   },
   "file_extension": ".py",
   "mimetype": "text/x-python",
   "name": "python",
   "nbconvert_exporter": "python",
   "pygments_lexer": "ipython3",
   "version": "3.7.7"
  }
 },
 "nbformat": 4,
 "nbformat_minor": 5
}
